{
 "cells": [
  {
   "cell_type": "markdown",
   "metadata": {},
   "source": [
    "## Punto ocho"
   ]
  },
  {
   "cell_type": "markdown",
   "metadata": {},
   "source": [
    "**Instrucción**\n",
    "\n",
    "Implementar el algoritmo que muestre los números primos del 1 al 100. Nota: use funciones\n"
   ]
  },
  {
   "cell_type": "code",
   "execution_count": 1,
   "metadata": {},
   "outputs": [
    {
     "name": "stdout",
     "output_type": "stream",
     "text": [
      "2\n",
      "3\n",
      "5\n",
      "7\n",
      "11\n",
      "13\n",
      "17\n",
      "19\n",
      "23\n",
      "29\n",
      "31\n",
      "37\n",
      "41\n",
      "43\n",
      "47\n",
      "53\n",
      "59\n",
      "61\n",
      "67\n",
      "71\n",
      "73\n",
      "79\n",
      "83\n",
      "89\n",
      "97\n"
     ]
    }
   ],
   "source": [
    "def primo (n:int)->int: #Se crea la función llamado primo, que permite hallar los primos desde 1 hasta n\n",
    "    i:int=2#Se declara e inicializa i, este es entero y su valor inicial es 2. i corresponde a cada número entre 2 y n.\n",
    "    x:int=2#Se declara e inicializa x, es entero y su valor inicial también es 2. x va a ser el divisor de i (cuando todos los residuos del mismo i dividido los valores de x sean distintos a 0, el número i es primo )\n",
    "\n",
    "    while i<=n:#el bloque se va a ejecutar mientras i sea menor o igual al n dado \n",
    "        if (x<=(i**0.5)): #Se determina que i puede ser primo solo si x es menor o igual a la raiz cuadrada de i (ya que para determinar si i es o no primo basta con buscar si x es un divisor hasta la raiz cuadrada de i, pues si hasta la raiz cuadrada de i no se ha encontrado ningun divisor es imposible encontrar otro divisor luego.)\n",
    "            if i%x==0:#Si el residuo de i dividido x es igual a 0, entonces el número i no es un primo\n",
    "                i+=1#i aumenta una unidad para reiniciar el ciclo hasta que i sea mayor que n\n",
    "                x=2#x vuelve a inicializarse en 2, para reiniciar el ciclo y determinar si el siguiente valor de i corresponde o no a un número primo\n",
    "            else:#Si el residuo de i dividido x es distinto a 0\n",
    "                x+=1#x aumenta una unidad para reiniciar el ciclo y determinar si i es primo o no\n",
    "        else:#Se determina que si x es mayor a la raiz cuadrada de i, el número es primo\n",
    "            print (i)#Se imprime el número primo\n",
    "            i+=1#i aumenta una unidad para reiniciar el ciclo hasta que i sea mayor que n\n",
    "            x=2#x vuelve a inicializarse en 2, para reiniciar el ciclo y determinar si el siguiente valor de i corresponde o no a un número primo\n",
    "    \n",
    "\n",
    "if __name__==\"__main__\":#Función principal\n",
    "    n:int=100#se declara e inicializa n, esta variable es de tipo int y su valor es 100 (pues la instrucción pide los números primos hasta el 100)\n",
    "    primosHastaCien=primo(n)#Se llama la función declarada al inicio del algoritmo, para que se muestren los números primos hasta 100"
   ]
  }
 ],
 "metadata": {
  "kernelspec": {
   "display_name": "Python 3",
   "language": "python",
   "name": "python3"
  },
  "language_info": {
   "codemirror_mode": {
    "name": "ipython",
    "version": 3
   },
   "file_extension": ".py",
   "mimetype": "text/x-python",
   "name": "python",
   "nbconvert_exporter": "python",
   "pygments_lexer": "ipython3",
   "version": "3.11.4"
  }
 },
 "nbformat": 4,
 "nbformat_minor": 2
}
