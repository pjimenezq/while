{
 "cells": [
  {
   "cell_type": "markdown",
   "metadata": {},
   "source": [
    "# Punto siete"
   ]
  },
  {
   "cell_type": "markdown",
   "metadata": {},
   "source": [
    "**Instrucción**\n",
    "\n",
    "Implementar un programa que ingrese un número de 2 a 50 y muestre sus divisores."
   ]
  },
  {
   "cell_type": "code",
   "execution_count": 1,
   "metadata": {},
   "outputs": [
    {
     "name": "stdout",
     "output_type": "stream",
     "text": [
      "Este programa imprime los divisores de un número ingresado por usted. El número debe estar entre 2 y 50\n",
      "Los divisores de 8 son: \n",
      "1\n",
      "2\n",
      "4\n",
      "8\n"
     ]
    }
   ],
   "source": [
    "print(\"Este programa imprime los divisores de un número ingresado por usted. El número debe estar entre 2 y 50\")#Se explica el propósito del programa\n",
    "\n",
    "n:int#Se declara la variable n, especificando que es de tipo int (el programa funciona con números enteros)\n",
    "n=int(input(\"Ingrese un número que sea mayor o igual al 2 y menor o igual a 50: \"))#Se utiliza la función input(), para que el usuario pueda ingresar el número n\n",
    "\n",
    "divisor:int#Se declara la variable divisor, especificando que es de tipo int\n",
    "divisor=1#Se inicializa a divisor en 1 (pues este es el primer divisor común a todos los números)\n",
    "\n",
    "print(\"Los divisores de \"+str(n)+ \" son: \")#Se imprime esta frase, esta se muestra antes del listado de los divisores de n\n",
    "\n",
    "while n>=2 and n<=50 and divisor<=(n/2): #Se ejecuta el bloque si n está entre 2 y 50 y mientras el divisor sea menor o igual a la mitad del número dado (dado a que es imposible que existan divisores, diferentes a n, que sean mayores a la mitad de n)\n",
    "    if n%divisor==0: #Si el residuo de n dividido el valor del divisor es igual a 0, significa que el valor de la variable divisor sí es un divisor de n\n",
    "        print(divisor)#Si se cumple la condición anterior se imprime el divisor\n",
    "        divisor+=1#El divisor aumenta una unidad para reiniciar el ciclo hasta que la variable divisor sea mayor que n dividido entre 2\n",
    "    else:#Si el residuo de n dividido el valor del divisor es distinto a 0, el valor de la variable divisor no es un divisor de n, por lo tanto el divisor no se imprime\n",
    "        divisor+=1#El divisor aumenta una unidad para reiniciar el ciclo hasta que la variable divisor sea mayor que n dividido entre 2\n",
    "print(n)#Dado a que se evaluaron los divisores menores o iguales a la mitad de n, se debe imprimir n porque este es un divisor para todo n"
   ]
  }
 ],
 "metadata": {
  "kernelspec": {
   "display_name": "Python 3",
   "language": "python",
   "name": "python3"
  },
  "language_info": {
   "codemirror_mode": {
    "name": "ipython",
    "version": 3
   },
   "file_extension": ".py",
   "mimetype": "text/x-python",
   "name": "python",
   "nbconvert_exporter": "python",
   "pygments_lexer": "ipython3",
   "version": "3.11.4"
  }
 },
 "nbformat": 4,
 "nbformat_minor": 2
}
