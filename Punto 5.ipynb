{
 "cells": [
  {
   "cell_type": "markdown",
   "metadata": {},
   "source": [
    "# Punto cinco"
   ]
  },
  {
   "cell_type": "markdown",
   "metadata": {},
   "source": [
    "**Instrucción**\n",
    "\n",
    "Imprimir el factorial de un número natural n dado."
   ]
  },
  {
   "cell_type": "code",
   "execution_count": null,
   "metadata": {},
   "outputs": [],
   "source": [
    "print(\"Este programa imprime el factorial de un número ingresado por usted\")#Se explica el propósito del programa\n",
    "\n",
    "n:int#Se declara la variable n, especificando que es de tipo int (el programa funciona con números enteros)\n",
    "n=int(input(\"Ingrese un número natural para hallar su factorial: \"))#Se utiliza la función input(), para que el usuario pueda ingresar el valor de n\n",
    "m:int#Se declara la variable m, la cual es de tipo int\n",
    "m=(n-1)#El valor de m corresponde a n-1\n",
    "\n",
    "while m>=1:#Se ejecuta el bloque mientras m sea mayor o igual a 1\n",
    "    n*=m#n es igual a n multiplicado por m \n",
    "    m-=1#m se reduce una unidad para que se reinicie el ciclo hasta que m sea menor que 1\n",
    "\n",
    "print(\"El factorial del número ingresado es \"+ str(n)+ \".\")#Cuando se acaba el ciclo, se imprime el factorial que corresponde a n*(n-1)*(n-2)...*1"
   ]
  }
 ],
 "metadata": {
  "kernelspec": {
   "display_name": "Python 3",
   "language": "python",
   "name": "python3"
  },
  "language_info": {
   "codemirror_mode": {
    "name": "ipython",
    "version": 3
   },
   "file_extension": ".py",
   "mimetype": "text/x-python",
   "name": "python",
   "nbconvert_exporter": "python",
   "pygments_lexer": "ipython3",
   "version": "3.11.4"
  }
 },
 "nbformat": 4,
 "nbformat_minor": 2
}
