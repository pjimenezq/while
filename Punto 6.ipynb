{
 "cells": [
  {
   "cell_type": "markdown",
   "metadata": {},
   "source": [
    " # Punto seis"
   ]
  },
  {
   "cell_type": "markdown",
   "metadata": {},
   "source": [
    "**Instrucción**\n",
    "\n",
    "Implementar un algoritmo que permita adivinar un número dado de 1 a 100, preguntando en cada caso si el número es mayor, menor o igual."
   ]
  },
  {
   "cell_type": "code",
   "execution_count": 2,
   "metadata": {},
   "outputs": [
    {
     "name": "stdout",
     "output_type": "stream",
     "text": [
      "Piense en un número que se encuentre entre 1 y 100\n",
      "El programa va a adivinar ese número, usted solo debe ingresar la palabra 'mayor', 'menor', o 'igual' en minúsculas\n",
      "El número que usted pensó es: 7\n"
     ]
    }
   ],
   "source": [
    "n:int=1#Se declara e inicializa la variable n, especificando que es de tipo int y que tiene un valor inicial de 1\n",
    "print(\"Piense en un número que se encuentre entre 1 y 100\")\n",
    "print(\"El programa va a adivinar ese número, usted solo debe ingresar la palabra 'mayor', 'menor', o 'igual' en minúsculas\")#Se muestra el propósito del programa\n",
    "\n",
    "while n<=100:#Se ejecuta el bloque mientras el número que se esté adivinando sea menor o igual a 100\n",
    "    pregunta=str(input(\"El número que usted está pensando es mayor, menor o igual que \"+ str(n)+\"? \"))#El usuario debe contestar \"mayor\", \"menor\" o \"igual\"\n",
    "    if pregunta==\"mayor\":#si el usuario escribe mayor\n",
    "        n+=9#Se incrementa 9 unidades la variable n, para reiniciar el ciclo\n",
    "    elif pregunta==\"menor\":#si el usuario escribe menor\n",
    "        n-=1#Se le resta una unidad a la variable n, para reiniciar el ciclo\n",
    "    else:#Cuando el usuario escribe igual, se imprime el número que ya se adivinó y se acaba el ciclo usando break\n",
    "        print(\"El número que usted pensó es: \"+ str(n))\n",
    "        break"
   ]
  }
 ],
 "metadata": {
  "kernelspec": {
   "display_name": "Python 3",
   "language": "python",
   "name": "python3"
  },
  "language_info": {
   "codemirror_mode": {
    "name": "ipython",
    "version": 3
   },
   "file_extension": ".py",
   "mimetype": "text/x-python",
   "name": "python",
   "nbconvert_exporter": "python",
   "pygments_lexer": "ipython3",
   "version": "3.11.4"
  }
 },
 "nbformat": 4,
 "nbformat_minor": 2
}
