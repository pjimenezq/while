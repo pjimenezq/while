{
 "cells": [
  {
   "cell_type": "markdown",
   "metadata": {},
   "source": [
    "# Punto tres"
   ]
  },
  {
   "cell_type": "markdown",
   "metadata": {},
   "source": [
    "**Instrucción**\n",
    "\n",
    "Imprimir los números pares en forma descendente hasta 2 que son menores o iguales a un número natural n ≥ 2 dado."
   ]
  },
  {
   "cell_type": "code",
   "execution_count": 1,
   "metadata": {},
   "outputs": [
    {
     "name": "stdout",
     "output_type": "stream",
     "text": [
      "En este programa usted ingresa un número natural n y el programa imprime los números pares en forma descendente desde n hasta 2. \n",
      "16\n",
      "14\n",
      "12\n",
      "10\n",
      "8\n",
      "6\n",
      "4\n",
      "2\n",
      "Ciclo terminado\n"
     ]
    }
   ],
   "source": [
    "print(\"En este programa usted ingresa un número natural n y el programa imprime los números pares en forma descendente desde n hasta 2. \")#Se explica el propósito del programa\n",
    "n:int#Se declara la variable n, especificando que es de tipo int (dado a que el programa funciona con números enteros)\n",
    "n=int(input(\"Ingrese un número natural: \"))#Se utiliza la función input(), para que el usuario pueda ingresar el valor de n\n",
    "\n",
    "while n>=2:#Se ejecuta el bloque mientras n sea mayor o igual a 2 (el listado de números pares debe llegar hasta 2)\n",
    "    if n%2!=0:#Con if se identifica si el número n dado es impar; este es impar cuando se cumple la condición de que el residuo de n dividido 2 es distinto a 0\n",
    "        n-=1#Si n es impar, se le resta una unidad para que se pueda imprimir el primer número par menor que n\n",
    "    print(n)#Ya que n es par se imprime su valor\n",
    "    n-=2#Se restan dos unidades (restando 2 a n par se obtiene el siguiente n par en forma descendente) para reiniciar el ciclo hasta que n llegue a ser menor que 2\n",
    "print(\"Ciclo terminado\")#Se imprime cuando se evalúa la condición dada y esta ya no se cumple, acabando así el ciclo y el código"
   ]
  }
 ],
 "metadata": {
  "kernelspec": {
   "display_name": "Python 3",
   "language": "python",
   "name": "python3"
  },
  "language_info": {
   "codemirror_mode": {
    "name": "ipython",
    "version": 3
   },
   "file_extension": ".py",
   "mimetype": "text/x-python",
   "name": "python",
   "nbconvert_exporter": "python",
   "pygments_lexer": "ipython3",
   "version": "3.11.4"
  }
 },
 "nbformat": 4,
 "nbformat_minor": 2
}
