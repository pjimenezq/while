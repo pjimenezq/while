{
 "cells": [
  {
   "cell_type": "markdown",
   "metadata": {},
   "source": [
    "# Punto 4"
   ]
  },
  {
   "cell_type": "markdown",
   "metadata": {},
   "source": [
    "**Instrucción**\n",
    "\n",
    "En 2022 el país A tendrá una población de 25 millones de habitantes y el país B de 18.9 millones.\n",
    "Las tasas de crecimiento anual de la población serán de 2% y 3% respectivamente. Desarrollar un algoritmo para informar en que año la población del país B superará a la de A."
   ]
  },
  {
   "cell_type": "code",
   "execution_count": 2,
   "metadata": {},
   "outputs": [
    {
     "name": "stdout",
     "output_type": "stream",
     "text": [
      "Este algoritmo permite determinar el año en el que la población del país B superará a la del país A\n",
      "La población del país B superará la población del país A en el año 2051. La población del país B será de 44539088 habitantes y la población del país A será de 44396117 habitantes.\n"
     ]
    }
   ],
   "source": [
    "print(\"Este algoritmo permite determinar el año en el que la población del país B superará a la del país A\")#Se explica el propósito del programa\n",
    "\n",
    "poblacionPaisA:int#Se declara la variable correspondiente a la población del país A, se nombra con camelcase y se especifica que es de tipo int (pues se trata del conteo de personas)\n",
    "poblacionPaisA=25000000#Se inicializa la variable de poblacionPaisA en 25000000 (que según el problema planteado son los habitantes del país A)\n",
    "poblacionPaisB:int#Se declara la variable correspondiente a la población del país B, se nombra con camelcase y se especifica que es de tipo int (pues se trata del conteo de personas)\n",
    "poblacionPaisB=18900000#Se inicializa la variable de poblacionPaisB en 18900000 (que según el problema planteado son los habitantes del país B)\n",
    "año:int#Se declara la variable de año, especificando que es de tipo int (los años son números enteros)\n",
    "año=2022#Se inicializa la avariable de año en 2022 (ya que los datos de las poblaciones de ambos paises son del año 2022)\n",
    "\n",
    "while poblacionPaisB<poblacionPaisA:#Se ejecuta el bloque mientras la población del país B sea menor que la población del país A\n",
    "    poblacionPaisA=(poblacionPaisA*0.02)+poblacionPaisA#La población del país A equivale a su poblacion sumada con crecimiento anual de su población (que se halla multiplicando la población por el crecimiento anual de 2%)\n",
    "    poblacionPaisB=(poblacionPaisB*0.03)+poblacionPaisB#La población del país B equivale a su poblacion sumada con crecimiento anual de su población (que se halla multiplicando la población por el crecimiento anual de 3%)\n",
    "    año+=1#El año aumenta una unidad en cada ciclo, esta variable permite determinar posteriormente en qué año la población del país B superará a la del país A\n",
    "#El ciclo se reinicia hasta que el número correspondiente a la población del país B sea mayor que el número correspondiente a la población del país A\n",
    "\n",
    "poblacionPaisA=int(poblacionPaisA)#Se usa int(), para que la población sea dada como un entero (Al multiplicar la población por la tasa de crecimiento anual, esta se conviritió en un decimal, pero es imposible que la cantidad de habitantes del país sea un número decimal)\n",
    "poblacionPaisB=int(poblacionPaisB)#Se usa int(), para que la población sea dada como un entero\n",
    "print(\"La población del país B superará la población del país A en el año \"+ str(año)+ \". La población del país B será de \" + str(poblacionPaisB)+ \" habitantes y la población del país A será de \" + str(poblacionPaisA)+\" habitantes.\")#Se imprime el año en el cual la población del país B superará a la del A, junto a la cantidad de habitantes de ambos paises en ese año"
   ]
  }
 ],
 "metadata": {
  "kernelspec": {
   "display_name": "Python 3",
   "language": "python",
   "name": "python3"
  },
  "language_info": {
   "codemirror_mode": {
    "name": "ipython",
    "version": 3
   },
   "file_extension": ".py",
   "mimetype": "text/x-python",
   "name": "python",
   "nbconvert_exporter": "python",
   "pygments_lexer": "ipython3",
   "version": "3.11.4"
  }
 },
 "nbformat": 4,
 "nbformat_minor": 2
}
